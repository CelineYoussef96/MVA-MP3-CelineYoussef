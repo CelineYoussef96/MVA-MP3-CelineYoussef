{
 "cells": [
  {
   "cell_type": "markdown",
   "metadata": {},
   "source": [
    "**You may need to install [OpenCV](https://pypi.python.org/pypi/opencv-python) and [scikit-video](http://www.scikit-video.org/stable/).**"
   ]
  },
  {
   "cell_type": "markdown",
   "metadata": {},
   "source": [
    "# CELINE YOUSSEF MVA MP3"
   ]
  },
  {
   "cell_type": "code",
   "execution_count": 1,
   "metadata": {},
   "outputs": [
    {
     "name": "stderr",
     "output_type": "stream",
     "text": [
      "/anaconda3/lib/python3.6/site-packages/h5py/__init__.py:36: FutureWarning: Conversion of the second argument of issubdtype from `float` to `np.floating` is deprecated. In future, it will be treated as `np.float64 == np.dtype(float).type`.\n",
      "  from ._conv import register_converters as _register_converters\n",
      "Using TensorFlow backend.\n"
     ]
    }
   ],
   "source": [
    "import keras\n",
    "import numpy as np\n",
    "import io\n",
    "import base64\n",
    "from IPython.display import HTML"
   ]
  },
  {
   "cell_type": "code",
   "execution_count": 3,
   "metadata": {},
   "outputs": [],
   "source": [
    "import skvideo\n",
    "skvideo.setFFmpegPath(\"/usr/local/bin/\")"
   ]
  },
  {
   "cell_type": "code",
   "execution_count": 4,
   "metadata": {},
   "outputs": [],
   "source": [
    "import skvideo.io\n",
    "import cv2\n",
    "import json\n",
    "from keras.models import Sequential,model_from_json\n",
    "from keras.layers.core import Dense\n",
    "from keras.optimizers import sgd\n",
    "from keras.layers import Conv2D, MaxPooling2D, Activation, AveragePooling2D,Reshape,BatchNormalization"
   ]
  },
  {
   "cell_type": "markdown",
   "metadata": {},
   "source": [
    "# MiniProject #3: Deep Reinforcement Learning"
   ]
  },
  {
   "cell_type": "markdown",
   "metadata": {},
   "source": [
    "__Notations__: $E_p$ is the expectation under probability $p$. Please justify each of your answer and widely comment your code."
   ]
  },
  {
   "cell_type": "markdown",
   "metadata": {},
   "source": [
    "# Context"
   ]
  },
  {
   "cell_type": "markdown",
   "metadata": {},
   "source": [
    "In a reinforcement learning algorithm, we modelize each step $t$ as an action $a_t$ obtained from a state $s_t$, i.e. $\\{(a_{t},s_{t})_{t\\leq T}\\}$ having the Markov property. We consider a discount factor $\\gamma \\in [0,1]$ that ensures convergence. The goal is to find among all the policies $\\pi$, one that maximizes the expected reward:\n",
    "\n",
    "\\begin{equation*}\n",
    "R(\\pi)=\\sum_{t\\leq T}E_{p^{\\pi}}[\\gamma^t r(s_{t},a_{t})] \\> ,\n",
    "\\end{equation*}\n",
    "\n",
    "where: \n",
    "\\begin{equation*}p^{\\pi}(a_{0},a_{1},s_{1},...,a_{T},s_{T})=p(a_{0})\\prod_{t=1}^{T}\\pi(a_{t}|s_{t})p(s_{t+1}|s_{t},a_{t}) \\> .\n",
    "\\end{equation*}\n",
    "\n",
    "We note the $Q$-function:\n",
    "\n",
    "\\begin{equation*}Q^\\pi(s,a)=E_{p^{\\pi}}[\\sum_{t\\leq T}\\gamma^{t}r(s_{t},a_{t})|s_{0}=s,a_{0}=a] \\> .\n",
    "\\end{equation*}\n",
    "\n",
    "Thus, the optimal Q function is:\n",
    "\\begin{equation*}\n",
    "Q^*(s,a)=\\max_{\\pi}Q^\\pi(s,a) \\> .\n",
    "\\end{equation*}\n",
    "\n",
    "In this project, we will apply the deep reinforcement learning techniques to a simple game: an agent will have to learn from scratch a policy that will permit it maximizing a reward."
   ]
  },
  {
   "cell_type": "markdown",
   "metadata": {},
   "source": [
    "## The environment, the agent and the game"
   ]
  },
  {
   "cell_type": "markdown",
   "metadata": {},
   "source": [
    "### The environment"
   ]
  },
  {
   "cell_type": "markdown",
   "metadata": {},
   "source": [
    "```Environment``` is an abstract class that represents the states, rewards, and actions to obtain the new state."
   ]
  },
  {
   "cell_type": "code",
   "execution_count": 5,
   "metadata": {},
   "outputs": [],
   "source": [
    "class Environment(object):\n",
    "    def __init__(self):\n",
    "        pass\n",
    "\n",
    "    def act(self, act):\n",
    "        \"\"\"\n",
    "        One can act on the environment and obtain its reaction:\n",
    "        - the new state\n",
    "        - the reward of the new state\n",
    "        - should we continue the game?\n",
    "\n",
    "        :return: state, reward, game_over\n",
    "        \"\"\"\n",
    "        pass\n",
    "\n",
    "\n",
    "    def reset(self):\n",
    "        \"\"\"\n",
    "        Reinitialize the environment to a random state and returns\n",
    "        the original state\n",
    "\n",
    "        :return: state\n",
    "        \"\"\"\n",
    "        pass\n",
    "    \n",
    "    def draw(self):\n",
    "        \"\"\"\n",
    "        Visualize in the console or graphically the current state\n",
    "        \"\"\"\n",
    "        pass"
   ]
  },
  {
   "cell_type": "markdown",
   "metadata": {},
   "source": [
    "The method ```act``` allows to act on the environment at a given state $s_t$ (stored internally), via action $a_t$. The method will return the new state $s_{t+1}$, the reward $r(s_{t},a_{t})$ and determines if $t\\leq T$ (*game_over*).\n",
    "\n",
    "The method ```reset``` simply reinitializes the environment to a random state $s_0$.\n",
    "\n",
    "The method ```draw``` displays the current state $s_t$ (this is useful to check the behavior of the Agent).\n",
    "\n",
    "We modelize $s_t$ as a tensor, while $a_t$ is an integer."
   ]
  },
  {
   "cell_type": "markdown",
   "metadata": {},
   "source": [
    "### The Agent"
   ]
  },
  {
   "cell_type": "markdown",
   "metadata": {},
   "source": [
    "The goal of the ```Agent``` is to interact with the ```Environment``` by proposing actions $a_t$ obtained from a given state $s_t$ to attempt to maximize its __reward__ $r(s_t,a_t)$. We propose the following abstract class:"
   ]
  },
  {
   "cell_type": "code",
   "execution_count": 6,
   "metadata": {},
   "outputs": [],
   "source": [
    "class Agent(object):\n",
    "    def __init__(self, epsilon=0.1, n_action=4):\n",
    "        self.epsilon = epsilon\n",
    "        self.n_action = n_action\n",
    "    \n",
    "    def set_epsilon(self,e):\n",
    "        self.epsilon = e\n",
    "\n",
    "    def act(self,s,train=False):\n",
    "        \"\"\" This function should return the next action to do:\n",
    "        an integer between 0 and 4 (not included) with a random exploration of epsilon\"\"\"\n",
    "        if train:\n",
    "            if np.random.rand() <= self.epsilon:\n",
    "                a = np.random.randint(0, self.n_action, size=1)[0]\n",
    "            else:\n",
    "                a = self.learned_act(s)\n",
    "        else: # in some cases, this can improve the performance.. remove it if poor performances\n",
    "            a = self.learned_act(s)\n",
    "\n",
    "        return a\n",
    "\n",
    "    def learned_act(self,s):\n",
    "        \"\"\" Act via the policy of the agent, from a given state s\n",
    "        it proposes an action a\"\"\"\n",
    "        pass\n",
    "\n",
    "    def reinforce(self, s, n_s, a, r, game_over_):\n",
    "        \"\"\" This function is the core of the learning algorithm. \n",
    "        It takes as an input the current state s_, the next state n_s_\n",
    "        the action a_ used to move from s_ to n_s_ and the reward r_.\n",
    "        \n",
    "        Its goal is to learn a policy.\n",
    "        \"\"\"\n",
    "        pass\n",
    "\n",
    "    def save(self):\n",
    "        \"\"\" This function returns basic stats if applicable: the\n",
    "        loss and/or the model\"\"\"\n",
    "        pass\n",
    "\n",
    "    def load(self):\n",
    "        \"\"\" This function allows to restore a model\"\"\"\n",
    "        pass"
   ]
  },
  {
   "cell_type": "markdown",
   "metadata": {},
   "source": [
    "***\n",
    "# __Question 1__:\n",
    "Explain the function act. Why is ```epsilon``` essential?"
   ]
  },
  {
   "cell_type": "markdown",
   "metadata": {},
   "source": [
    "- The function act is a function used to provide the next action (between 0 and 4: for 4 different actions) for a given state and uses a learned policy. More precisely an epsilon greedy behavioral policy. \n",
    "\n",
    "\n",
    "\n",
    "\n",
    "- It is essential to have an epsilon value in order for the agent to learn more policies and be able to reach an optimal solution without being stuck. "
   ]
  },
  {
   "cell_type": "markdown",
   "metadata": {},
   "source": [
    "***\n",
    "### The Game"
   ]
  },
  {
   "cell_type": "markdown",
   "metadata": {},
   "source": [
    "The ```Agent``` and the ```Environment``` work in an interlaced way as in the following (take some time to understand this code as it is the core of the project)\n",
    "\n",
    "```python\n",
    "\n",
    "epoch = 300\n",
    "env = Environment()\n",
    "agent = Agent()\n",
    "\n",
    "\n",
    "# Number of won games\n",
    "score = 0\n",
    "loss = 0\n",
    "\n",
    "\n",
    "for e in range(epoch):\n",
    "    # At each epoch, we restart to a fresh game and get the initial state\n",
    "    state = env.reset()\n",
    "    # This assumes that the games will end\n",
    "    game_over = False\n",
    "\n",
    "    win = 0\n",
    "    lose = 0\n",
    "    \n",
    "    while not game_over:\n",
    "        # The agent performs an action\n",
    "        action = agent.act(state)\n",
    "\n",
    "        # Apply an action to the environment, get the next state, the reward\n",
    "        # and if the games end\n",
    "        prev_state = state\n",
    "        state, reward, game_over = env.act(action)\n",
    "\n",
    "        # Update the counters\n",
    "        if reward > 0:\n",
    "            win = win + reward\n",
    "        if reward < 0:\n",
    "            lose = lose -reward\n",
    "\n",
    "        # Apply the reinforcement strategy\n",
    "        loss = agent.reinforce(prev_state, state,  action, reward, game_over)\n",
    "\n",
    "    # Save as a mp4\n",
    "    if e % 10 == 0:\n",
    "        env.draw(e)\n",
    "\n",
    "    # Update stats\n",
    "    score += win-lose\n",
    "\n",
    "    print(\"Epoch {:03d}/{:03d} | Loss {:.4f} | Win/lose count {}/{} ({})\"\n",
    "          .format(e, epoch, loss, win, lose, win-lose))\n",
    "    agent.save()\n",
    "```"
   ]
  },
  {
   "cell_type": "markdown",
   "metadata": {},
   "source": [
    "# The game, *eat cheese*"
   ]
  },
  {
   "cell_type": "markdown",
   "metadata": {},
   "source": [
    "A rat runs on an island and tries to eat as much as possible. The island is subdivided into $N\\times N$ cells, in which there are cheese (+0.5) and poisonous cells (-1). The rat has a visibility of 2 cells (thus it can see $5^2$ cells). The rat is given a time $T$ to accumulate as much food as possible. It can perform 4 actions: going up, down, left, right. \n",
    "\n",
    "The goal is to code an agent to solve this task that will learn by trial and error. We propose the following environment:"
   ]
  },
  {
   "cell_type": "code",
   "execution_count": 7,
   "metadata": {},
   "outputs": [],
   "source": [
    "class Environment(object):\n",
    "    def __init__(self, grid_size=10, max_time=500, temperature=0.1):\n",
    "        grid_size = grid_size+4\n",
    "        self.grid_size = grid_size\n",
    "        self.max_time = max_time\n",
    "        self.temperature = temperature\n",
    "\n",
    "        #board on which one plays\n",
    "        self.board = np.zeros((grid_size,grid_size))\n",
    "        self.position = np.zeros((grid_size,grid_size))\n",
    "\n",
    "        # coordinate of the cat\n",
    "        self.x = 0\n",
    "        self.y = 1\n",
    "\n",
    "        # self time\n",
    "        self.t = 0\n",
    "\n",
    "        self.scale=16\n",
    "\n",
    "        self.to_draw = np.zeros((max_time+2, grid_size*self.scale, grid_size*self.scale, 3))\n",
    "\n",
    "\n",
    "    def draw(self,e):\n",
    "        skvideo.io.vwrite(str(e) + '.mp4', self.to_draw)\n",
    "\n",
    "    def get_frame(self,t):\n",
    "        b = np.zeros((self.grid_size,self.grid_size,3))+128\n",
    "        b[self.board>0,0] = 256\n",
    "        b[self.board < 0, 2] = 256\n",
    "        b[self.x,self.y,:]=256\n",
    "        b[-2:,:,:]=0\n",
    "        b[:,-2:,:]=0\n",
    "        b[:2,:,:]=0\n",
    "        b[:,:2,:]=0\n",
    "        \n",
    "        b =  cv2.resize(b, None, fx=self.scale, fy=self.scale, interpolation=cv2.INTER_NEAREST)\n",
    "\n",
    "        self.to_draw[t,:,:,:]=b\n",
    "\n",
    "\n",
    "    def act(self, action):\n",
    "        \"\"\"This function returns the new state, reward and decides if the\n",
    "        game ends.\"\"\"\n",
    "\n",
    "        self.get_frame(int(self.t))\n",
    "\n",
    "        self.position = np.zeros((self.grid_size, self.grid_size))\n",
    "\n",
    "        self.position[0:2,:]= -1\n",
    "        self.position[:,0:2] = -1\n",
    "        self.position[-2:, :] = -1\n",
    "        self.position[:, -2:] = -1\n",
    "\n",
    "        self.position[self.x, self.y] = 1\n",
    "        if action == 0:\n",
    "            if self.x == self.grid_size - 3:\n",
    "                self.x = self.x\n",
    "            else:\n",
    "                self.x = self.x + 1\n",
    "        elif action == 1:\n",
    "            if self.x == 2:\n",
    "                self.x = self.x\n",
    "            else:\n",
    "                self.x = self.x - 1\n",
    "        elif action == 2:\n",
    "            if self.y == self.grid_size - 3:\n",
    "                self.y = self.y\n",
    "            else:\n",
    "                self.y = self.y + 1\n",
    "        elif action == 3:\n",
    "            if self.y == 2:\n",
    "                self.y = self.y\n",
    "            else:\n",
    "                self.y = self.y - 1\n",
    "        else:\n",
    "            RuntimeError('Error: action not recognized')\n",
    "\n",
    "        self.t = self.t + 1\n",
    "        reward = self.board[self.x, self.y]\n",
    "        self.board[self.x, self.y] = 0\n",
    "        game_over = self.t > self.max_time\n",
    "        state = np.concatenate((self.board.reshape(self.grid_size, self.grid_size,1),\n",
    "                        self.position.reshape(self.grid_size, self.grid_size,1)),axis=2)\n",
    "        state = state[self.x-2:self.x+3,self.y-2:self.y+3,:]\n",
    "\n",
    "        return state, reward, game_over\n",
    "\n",
    "    def reset(self):\n",
    "        \"\"\"This function resets the game and returns the initial state\"\"\"\n",
    "\n",
    "        self.x = np.random.randint(3, self.grid_size-3, size=1)[0]\n",
    "        self.y = np.random.randint(3, self.grid_size-3, size=1)[0]\n",
    "\n",
    "\n",
    "        bonus = 0.5*np.random.binomial(1,self.temperature,size=self.grid_size**2)\n",
    "        bonus = bonus.reshape(self.grid_size,self.grid_size)\n",
    "\n",
    "        malus = -1.0*np.random.binomial(1,self.temperature,size=self.grid_size**2)\n",
    "        malus = malus.reshape(self.grid_size, self.grid_size)\n",
    "\n",
    "        self.to_draw = np.zeros((self.max_time+2, self.grid_size*self.scale, self.grid_size*self.scale, 3))\n",
    "\n",
    "\n",
    "        malus[bonus>0]=0\n",
    "\n",
    "        self.board = bonus + malus\n",
    "\n",
    "        self.position = np.zeros((self.grid_size, self.grid_size))\n",
    "        self.position[:2,:]= -1\n",
    "        self.position[:,:2] = -1\n",
    "        self.position[-2:, :] = -1\n",
    "        self.position[:, -2:] = -1\n",
    "        \n",
    "        self.board[self.position < 0] = 0\n",
    "        self.board[self.x,self.y] = 0\n",
    "        \n",
    "        self.t = 0\n",
    "\n",
    "        state = np.concatenate((\n",
    "                               self.board.reshape(self.grid_size, self.grid_size,1),\n",
    "                        self.position.reshape(self.grid_size, self.grid_size,1)),axis=2)\n",
    "        \n",
    "        state = state[self.x - 2:self.x + 3, self.y - 2:self.y + 3, :]\n",
    "        return state"
   ]
  },
  {
   "cell_type": "markdown",
   "metadata": {},
   "source": [
    "The following elements are important because they correspond to the hyper parameters for this project:"
   ]
  },
  {
   "cell_type": "code",
   "execution_count": 8,
   "metadata": {},
   "outputs": [],
   "source": [
    "# parameters\n",
    "size = 13\n",
    "T= 200\n",
    "temperature=0.3\n",
    "epochs_train= 300 # set small when debugging\n",
    "epochs_test= 50 # set small when debugging\n",
    "\n",
    "# display videos\n",
    "def display_videos(name):\n",
    "    video = io.open(name, 'r+b').read()\n",
    "    encoded = base64.b64encode(video)\n",
    "    return '''<video alt=\"test\" controls>\n",
    "                <source src=\"data:video/mp4;base64,{0}\" type=\"video/mp4\" />\n",
    "             </video>'''.format(encoded.decode('ascii'))"
   ]
  },
  {
   "cell_type": "markdown",
   "metadata": {},
   "source": [
    "# __Question 2__ \n",
    "Explain the use of the arrays ```position``` and ```board```."
   ]
  },
  {
   "cell_type": "markdown",
   "metadata": {},
   "source": [
    "- The arrays position are made for storing the current state of the agent in a game and provide information about what positions are possible and not possible to go to (ex: borders).\n",
    "\n",
    "- The arrays board are made for storing information about states where we have a cheese or poison or nothing."
   ]
  },
  {
   "cell_type": "markdown",
   "metadata": {},
   "source": [
    "## Random Agent"
   ]
  },
  {
   "cell_type": "markdown",
   "metadata": {},
   "source": [
    "***\n",
    "__Question 3__ Implement a random Agent (only ```learned_act``` needs to be implemented):"
   ]
  },
  {
   "cell_type": "code",
   "execution_count": 9,
   "metadata": {},
   "outputs": [],
   "source": [
    "class RandomAgent(Agent):\n",
    "    def __init__(self):\n",
    "        super(RandomAgent, self).__init__()\n",
    "        pass\n",
    "\n",
    "    def learned_act(self, s):\n",
    "        #pass\n",
    "        return np.random.randint(0, self.n_action)"
   ]
  },
  {
   "cell_type": "markdown",
   "metadata": {},
   "source": [
    "***\n",
    "***\n",
    "__Question 4__ Visualize the game moves. You need to fill in the following function for the evaluation:"
   ]
  },
  {
   "cell_type": "code",
   "execution_count": 10,
   "metadata": {},
   "outputs": [],
   "source": [
    "def test(agent, env, epochs, prefix=''):\n",
    "    # Number of won games\n",
    "    score = 0\n",
    "        \n",
    "    for e in range(1, epochs + 1):\n",
    "        # At each epoch, we restart to a fresh game and get the initial state\n",
    "        state = env.reset()\n",
    "        # This assumes that the games will end\n",
    "        game_over = False\n",
    "\n",
    "        win = 0\n",
    "        lose = 0\n",
    "\n",
    "        while not game_over:\n",
    "            # The agent performs an action\n",
    "            action = agent.act(state)\n",
    "\n",
    "            # Apply an action to the environment, get the next state, the reward\n",
    "            # and if the games end\n",
    "            prev_state = state\n",
    "            state, reward, game_over = env.act(action)\n",
    "\n",
    "            # Update the counters\n",
    "            if reward > 0:\n",
    "                win = win + reward\n",
    "            if reward < 0:\n",
    "                lose = lose -reward\n",
    "        \n",
    "        # Save as a mp4\n",
    "        env.draw(prefix + str(e))\n",
    "\n",
    "        # Update stats\n",
    "        score += win - lose\n",
    "\n",
    "        print(\"Win/lose count {}/{}. Average score ({})\".format(win, lose, score / e))\n",
    "    print('Final score: {}'.format(score / epochs))"
   ]
  },
  {
   "cell_type": "code",
   "execution_count": 108,
   "metadata": {},
   "outputs": [
    {
     "name": "stdout",
     "output_type": "stream",
     "text": [
      "Win/lose count 6.0/9.0. Average score (-3.0)\n",
      "Win/lose count 11.0/19.0. Average score (-5.5)\n",
      "Win/lose count 9.5/10.0. Average score (-3.8333333333333335)\n",
      "Win/lose count 11.0/15.0. Average score (-3.875)\n",
      "Win/lose count 10.5/15.0. Average score (-4.0)\n",
      "Win/lose count 9.5/15.0. Average score (-4.25)\n",
      "Win/lose count 12.0/10.0. Average score (-3.357142857142857)\n",
      "Win/lose count 5.5/15.0. Average score (-4.125)\n",
      "Win/lose count 3.5/7.0. Average score (-4.055555555555555)\n",
      "Win/lose count 9.0/17.0. Average score (-4.45)\n",
      "Win/lose count 17.0/14.0. Average score (-3.772727272727273)\n",
      "Win/lose count 13.5/11.0. Average score (-3.25)\n",
      "Win/lose count 10.0/14.0. Average score (-3.3076923076923075)\n",
      "Win/lose count 7.0/17.0. Average score (-3.7857142857142856)\n",
      "Win/lose count 11.0/20.0. Average score (-4.133333333333334)\n",
      "Win/lose count 10.0/11.0. Average score (-3.9375)\n",
      "Win/lose count 7.0/13.0. Average score (-4.0588235294117645)\n",
      "Win/lose count 11.0/19.0. Average score (-4.277777777777778)\n",
      "Win/lose count 8.0/14.0. Average score (-4.368421052631579)\n",
      "Win/lose count 8.5/10.0. Average score (-4.225)\n",
      "Final score: -4.225\n"
     ]
    },
    {
     "data": {
      "text/html": [
       "<video alt=\"test\" controls>\n",
       "                <source src=\"data:video/mp4;base64,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\" type=\"video/mp4\" />\n",
       "             </video>"
      ],
      "text/plain": [
       "<IPython.core.display.HTML object>"
      ]
     },
     "execution_count": 108,
     "metadata": {},
     "output_type": "execute_result"
    }
   ],
   "source": [
    "# Initialize the game\n",
    "env = Environment(grid_size=size, max_time=T, temperature=0.3)\n",
    "\n",
    "# Initialize the agent!\n",
    "agent = RandomAgent()\n",
    "\n",
    "test(agent, env, epochs_test, prefix='random')\n",
    "HTML(display_videos('random1.mp4'))"
   ]
  },
  {
   "cell_type": "markdown",
   "metadata": {},
   "source": [
    "***\n",
    "## DQN"
   ]
  },
  {
   "cell_type": "markdown",
   "metadata": {},
   "source": [
    "Let us assume here that $T=\\infty$.\n",
    "\n",
    "***\n",
    "__Question 5__ Let $\\pi$ be a policy, show that:\n",
    "\n",
    "\\begin{equation*}\n",
    "Q^{\\pi}(s,a)=E_{(s',a')\\sim p(.|s,a)}[r(s,a)+\\gamma Q^{\\pi}(s',a')]\n",
    "\\end{equation*}\n",
    "\n",
    "Then, show that for the optimal policy $\\pi^*$ (we assume its existence), the following holds: \n",
    "\n",
    "\\begin{equation*}\n",
    "Q^{*}(s,a)=E_{s'\\sim \\pi^*(.|s,a)}[r(s,a)+\\gamma\\max_{a'}Q^{*}(s',a')].\n",
    "\\end{equation*}\n",
    "Finally, deduce that a plausible objective is:\n",
    "\n",
    "\\begin{equation*}\n",
    "\\mathcal{L}(\\theta)=E_{s' \\sim \\pi^*(.|s,a)}\\Vert r+\\gamma\\max\\max_{a'}Q(s',a',\\theta)-Q(s,a,\\theta)\\Vert^{2}.\n",
    "\\end{equation*}\n",
    "\n",
    "\n"
   ]
  },
  {
   "cell_type": "markdown",
   "metadata": {},
   "source": [
    "\n",
    "1) \n",
    "\n",
    "The Q-function is known as: $Q^\\pi(s,a)=E_{{\\pi}}[\\sum_{t=0}^\\infty\\gamma^{t}r(s_{t},a_{t})|s_{0}=s,a_{0}=a]$. \n",
    "\n",
    "Then we get the Bellman's equation by putting aside the first term: $Q^\\pi(s,a)=E_{p^{\\pi}}[r(s, a) + \\gamma \\sum_{t=1}^\\infty\\gamma^{t-1}r(s_{t},a_{t})|s_{0}=s,a_{0}=a]$. \n",
    "\n",
    "We can represent the state and action in term of $p^\\pi(.|s, a)$, so we have:  $Q^\\pi(s,a)= r(s, a) + \\gamma E_{(s^\\prime, a^\\prime)\\sim p^\\pi(.|s,a)}[Q^\\pi(s^\\prime, a^\\prime)]$.\n"
   ]
  },
  {
   "cell_type": "markdown",
   "metadata": {},
   "source": [
    "2)\n",
    "\n",
    "The optimal Q-function is known as: $Q^*(s,a)=\\max_{\\pi}Q^\\pi(s,a)$.\n",
    "\n",
    "This function can be maximized with respect to the policy : $\\pi$, which is the same as optimizing the function with respect to a' from the previous equation in part 1  : $Q^*(s,a)= r(s,a) + \\gamma E_{(s^\\prime, a^\\prime)\\sim p^{\\pi^*}(.|s,a)} [\\max_{a^\\prime}Q^*(s^\\prime,a^\\prime)]$."
   ]
  },
  {
   "cell_type": "markdown",
   "metadata": {},
   "source": [
    "3)\n",
    "Plausible objective:\n",
    "\n",
    "The goal is to find the optimal Q-function by minimizing the distance between the first two equations (prediction and target): $L^2$-error.\n",
    "\n",
    "So we have: \\begin{equation}0 =E_{s'\\sim \\pi^*(.|s,a)}[r(s,a)+\\gamma\\max_{a'}Q^{*}(s',a')] - Q^{}(s,a) \\end{equation} \\begin{equation*}\n",
    "\\mathcal{L}(\\theta)=E_{s' \\sim \\pi^*(.|s,a)}\\Vert r+\\gamma\\max\\max_{a'}Q(s',a',\\theta)-Q(s,a,\\theta)\\Vert^{2}.\n",
    "\\end{equation*}\n",
    "\n"
   ]
  },
  {
   "cell_type": "markdown",
   "metadata": {},
   "source": [
    "***\n",
    "The DQN-learning algorithm relies on these derivations to train the parameters $\\theta$ of a Deep Neural Network:\n",
    "\n",
    "1. At the state $s_t$, select the action $a_t$ with best reward using $Q_t$ and store the results;\n",
    "\n",
    "2. Obtain the new state $s_{t+1}$ from the environment $p$;\n",
    "\n",
    "3. Store $(s_t,a_t,s_{t+1})$;\n",
    "\n",
    "4. Obtain $Q_{t+1}$ by minimizing  $\\mathcal{L}$ from a recovered batch from the previously stored results.\n",
    "\n",
    "***\n",
    "__Question 6__ Implement the class ```Memory``` that stores moves (in a replay buffer) via ```remember``` and provides a ```random_access``` to these. Specify a maximum memory size to avoid side effects. You can for example use a ```list()``` and set by default ```max_memory=100```."
   ]
  },
  {
   "cell_type": "code",
   "execution_count": 52,
   "metadata": {},
   "outputs": [],
   "source": [
    "class Memory(object):\n",
    "    def __init__(self, max_memory=100):  #define the max_memory to be equal to 100\n",
    "        self.max_memory = max_memory     #initialize max_memory\n",
    "        self.memory = list()            #store the moves in a list - buffer\n",
    "\n",
    "    def remember(self, m):\n",
    "        #pass\n",
    "        self.memory.append(m)\n",
    "        self.memory = self.memory[:self.max_memory]\n",
    "\n",
    "    def random_access(self):\n",
    "        #pass\n",
    "        return self.memory[np.random.randint(0, len(self.memory))]"
   ]
  },
  {
   "cell_type": "markdown",
   "metadata": {},
   "source": [
    "***\n",
    "The pipeline we will use for training is given below:"
   ]
  },
  {
   "cell_type": "code",
   "execution_count": 53,
   "metadata": {},
   "outputs": [],
   "source": [
    "def train(agent,env,epoch,prefix=''):\n",
    "    # Number of won games\n",
    "    score = 0\n",
    "    loss = 0\n",
    "\n",
    "    for e in range(epoch):\n",
    "        # At each epoch, we restart to a fresh game and get the initial state\n",
    "        state = env.reset()\n",
    "        # This assumes that the games will terminate\n",
    "        game_over = False\n",
    "\n",
    "        win = 0\n",
    "        lose = 0\n",
    "\n",
    "        while not game_over:\n",
    "            # The agent performs an action\n",
    "            action = agent.act(state)\n",
    "\n",
    "            # Apply an action to the environment, get the next state, the reward\n",
    "            # and if the games end\n",
    "            prev_state = state\n",
    "            state, reward, game_over = env.act(action)\n",
    "\n",
    "            # Update the counters\n",
    "            if reward > 0:\n",
    "                win = win + reward\n",
    "            if reward < 0:\n",
    "                lose = lose -reward\n",
    "\n",
    "            # Apply the reinforcement strategy\n",
    "            loss = agent.reinforce(prev_state, state,  action, reward, game_over)\n",
    "\n",
    "        # Save as a mp4\n",
    "        if e % 10 == 0:\n",
    "            env.draw(prefix+str(e))\n",
    "\n",
    "        # Update stats\n",
    "        score += win-lose\n",
    "\n",
    "        print(\"Epoch {:03d}/{:03d} | Loss {:.4f} | Win/lose count {}/{} ({})\"\n",
    "              .format(e, epoch, loss, win, lose, win-lose))\n",
    "        agent.save(name_weights=prefix+'model.h5',name_model=prefix+'model.json')"
   ]
  },
  {
   "cell_type": "markdown",
   "metadata": {},
   "source": [
    "***\n",
    "__Question 7__ Implement the DQN training algorithm using a cascade of fully connected layers. You can use different learning rate, batch size or memory size parameters. In particular, the loss might oscillate while the player will start to win the games. You have to find a good criterium."
   ]
  },
  {
   "cell_type": "code",
   "execution_count": 111,
   "metadata": {},
   "outputs": [],
   "source": [
    "from keras.layers import Input, Flatten\n",
    "class DQN(Agent):\n",
    "    def __init__(self, grid_size,  epsilon = 0.1, memory_size=100, batch_size = 16,n_state=2):\n",
    "        super(DQN, self).__init__(epsilon = epsilon)\n",
    "\n",
    "        # Discount for Q learning\n",
    "        self.discount = 0.99\n",
    "        \n",
    "        self.grid_size = grid_size\n",
    "        \n",
    "        # number of state\n",
    "        self.n_state = n_state\n",
    "\n",
    "        # Memory\n",
    "        self.memory = Memory(memory_size)\n",
    "        \n",
    "        # Batch size when learning\n",
    "        self.batch_size = batch_size\n",
    "\n",
    "    def learned_act(self, s):\n",
    "        return np.argmax(self.model.predict(s[None]))\n",
    "\n",
    "    def reinforce(self, s_, n_s_, a_, r_, game_over_):\n",
    "        # Two steps: first memorize the states, second learn from the pool\n",
    "\n",
    "        self.memory.remember([s_, n_s_, a_, r_, game_over_])\n",
    "        \n",
    "        input_states = np.zeros((self.batch_size, 5,5,self.n_state))\n",
    "        target_q = np.zeros((self.batch_size, 4))\n",
    "        \n",
    "        for i in range(self.batch_size):\n",
    "            s_, n_s_, a_, r_, game_over_ = self.memory.random_access()\n",
    "            input_states[i] = s_\n",
    "            if game_over_:\n",
    "                Q = np.zeros(4) #end state\n",
    "            else:\n",
    "                Q = self.model.predict(n_s_[None])[0]\n",
    "                target_q[i][a_] = r_ + self.discount * np.max(Q) \n",
    "        target_q = np.clip(target_q, -3, 3)  #clip target\n",
    "\n",
    "        l = self.model.train_on_batch(input_states, target_q)\n",
    "\n",
    "        return l\n",
    "\n",
    "    def save(self,name_weights='model.h5',name_model='model.json'):\n",
    "        self.model.save_weights(name_weights, overwrite=True)\n",
    "        with open(name_model, \"w\") as outfile:\n",
    "            json.dump(self.model.to_json(), outfile)\n",
    "            \n",
    "    def load(self,name_weights='model.h5',name_model='model.json'):\n",
    "        with open(name_model, \"r\") as jfile:\n",
    "            model = model_from_json(json.load(jfile))\n",
    "        model.load_weights(name_weights)\n",
    "        model.compile(\"sgd\", \"mse\")\n",
    "        self.model = model\n",
    "\n",
    "            \n",
    "class DQN_FC(DQN):\n",
    "    def __init__(self, *args, lr=0.1,**kwargs):\n",
    "        super(DQN_FC, self).__init__( *args,**kwargs)\n",
    "        \n",
    "        model = Sequential([\n",
    "            Dense(32, input_shape = (5, 5, 2)),\n",
    "            Flatten(input_shape=(5, 5, self.n_state)),\n",
    "            Dense(32, activation='relu'),\n",
    "            Dense(4, activation = 'linear')\n",
    "        ])\n",
    "        \n",
    "\n",
    "        model.summary()\n",
    "        \n",
    "        model.compile(sgd(lr=lr, decay=1e-4, momentum=0.0), \"mse\")\n",
    "        self.model = model\n",
    "        "
   ]
  },
  {
   "cell_type": "code",
   "execution_count": 112,
   "metadata": {},
   "outputs": [
    {
     "name": "stdout",
     "output_type": "stream",
     "text": [
      "_________________________________________________________________\n",
      "Layer (type)                 Output Shape              Param #   \n",
      "=================================================================\n",
      "dense_87 (Dense)             (None, 5, 5, 32)          96        \n",
      "_________________________________________________________________\n",
      "flatten_53 (Flatten)         (None, 800)               0         \n",
      "_________________________________________________________________\n",
      "dense_88 (Dense)             (None, 32)                25632     \n",
      "_________________________________________________________________\n",
      "dense_89 (Dense)             (None, 4)                 132       \n",
      "=================================================================\n",
      "Total params: 25,860\n",
      "Trainable params: 25,860\n",
      "Non-trainable params: 0\n",
      "_________________________________________________________________\n",
      "Epoch 000/020 | Loss 0.0000 | Win/lose count 0.5/1.0 (-0.5)\n",
      "Epoch 001/020 | Loss 0.0000 | Win/lose count 1.5/0 (1.5)\n",
      "Epoch 002/020 | Loss 0.0007 | Win/lose count 0/2.0 (-2.0)\n",
      "Epoch 003/020 | Loss 0.0001 | Win/lose count 0.5/0 (0.5)\n",
      "Epoch 004/020 | Loss 0.0025 | Win/lose count 2.5/2.0 (0.5)\n",
      "Epoch 005/020 | Loss 0.0000 | Win/lose count 4.0/3.0 (1.0)\n",
      "Epoch 006/020 | Loss 0.0034 | Win/lose count 0.5/0 (0.5)\n",
      "Epoch 007/020 | Loss 0.0029 | Win/lose count 4.0/3.0 (1.0)\n",
      "Epoch 008/020 | Loss 0.0001 | Win/lose count 1.5/0 (1.5)\n",
      "Epoch 009/020 | Loss 0.0010 | Win/lose count 4.0/0 (4.0)\n",
      "Epoch 010/020 | Loss 0.0006 | Win/lose count 2.0/0 (2.0)\n",
      "Epoch 011/020 | Loss 0.0031 | Win/lose count 4.5/1.0 (3.5)\n",
      "Epoch 012/020 | Loss 0.0069 | Win/lose count 4.0/1.0 (3.0)\n",
      "Epoch 013/020 | Loss 0.0000 | Win/lose count 4.5/4.0 (0.5)\n",
      "Epoch 014/020 | Loss 0.0016 | Win/lose count 1.5/1.0 (0.5)\n",
      "Epoch 015/020 | Loss 0.0000 | Win/lose count 0.5/0 (0.5)\n",
      "Epoch 016/020 | Loss 0.0008 | Win/lose count 1.5/0 (1.5)\n",
      "Epoch 017/020 | Loss 0.0013 | Win/lose count 1.5/0 (1.5)\n",
      "Epoch 018/020 | Loss 0.0000 | Win/lose count 1.5/1.0 (0.5)\n",
      "Epoch 019/020 | Loss 0.0000 | Win/lose count 2.5/1.0 (1.5)\n"
     ]
    },
    {
     "data": {
      "text/html": [
       "<video alt=\"test\" controls>\n",
       "                <source src=\"data:video/mp4;base64,AAAAIGZ0eXBpc29tAAACAGlzb21pc28yYXZjMW1wNDEAAAAIZnJlZQAAFk5tZGF0AAACrQYF//+p3EXpvebZSLeWLNgg2SPu73gyNjQgLSBjb3JlIDE1NSByMjkwMSA3ZDBmZjIyIC0gSC4yNjQvTVBFRy00IEFWQyBjb2RlYyAtIENvcHlsZWZ0IDIwMDMtMjAxOCAtIGh0dHA6Ly93d3cudmlkZW9sYW4ub3JnL3gyNjQuaHRtbCAtIG9wdGlvbnM6IGNhYmFjPTEgcmVmPTMgZGVibG9jaz0xOjA6MCBhbmFseXNlPTB4MToweDExMSBtZT1oZXggc3VibWU9NyBwc3k9MSBwc3lfcmQ9MS4wMDowLjAwIG1peGVkX3JlZj0xIG1lX3JhbmdlPTE2IGNocm9tYV9tZT0xIHRyZWxsaXM9MSA4eDhkY3Q9MCBjcW09MCBkZWFkem9uZT0yMSwxMSBmYXN0X3Bza2lwPTEgY2hyb21hX3FwX29mZnNldD00IHRocmVhZHM9NiBsb29rYWhlYWRfdGhyZWFkcz0xIHNsaWNlZF90aHJlYWRzPTAgbnI9MCBkZWNpbWF0ZT0xIGludGVybGFjZWQ9MCBibHVyYXlfY29tcGF0PTAgY29uc3RyYWluZWRfaW50cmE9MCBiZnJhbWVzPTMgYl9weXJhbWlkPTIgYl9hZGFwdD0xIGJfYmlhcz0wIGRpcmVjdD0xIHdlaWdodGI9MSBvcGVuX2dvcD0wIHdlaWdodHA9MiBrZXlpbnQ9MjUwIGtleWludF9taW49MjUgc2NlbmVjdXQ9NDAgaW50cmFfcmVmcmVzaD0wIHJjX2xvb2thaGVhZD00MCByYz1jcmYgbWJ0cmVlPTEgY3JmPTIzLjAgcWNvbXA9MC42MCBxcG1pbj0wIHFwbWF4PTY5IHFwc3RlcD00IGlwX3JhdGlvPTEuNDAgYXE9MToxLjAwAIAAAAOqZYiEADP//vaG+BTYUyP+T7/8I/+5H7cfWfrixkIJvrVeQ9GAMl8a/5lGYaXpyc8t7R+vTNAEZz6HlLJIofgUkwDfMsjnE4qnNEDmR5JCVX04EsPBVeyebSzqqqTMhGNVH22OniurpJIRQTS6PyjUERdVYFPfCfFaeecLlq3A4ziamAeoGrm80JfwCOD47ctxv9zDVj8EfRiN/ZWU0Otln+BBxaP5dyOcJKMrZziTuo8bA7OpR7+auyA8BSbbDCnDj2fNRP2lagDtF+hRVaTZ+dTVPXVDwJDylBdfvqI5KmbJZpNNGykhvlvOzSrue0nN+dkCxHJ1ezPxD0Er1ZMEw4cGmSC/uhgGFhckXnNYq5+YWproe5GHcDp/92QMaXSosvQ3aBGB4sSTgF8BQiEjXbXGwWYQ77+klMpNnWJmJCcJBAFf7RlRgHkfFInQam1YeRFtLzOeMxnZTrXV2LLDj7N9jQ5op/Fs9d036TnCayG/t3R5yCiLxMhBHduY41jNirkPlAFwvssm3wn4EJr8ioX3BBf2UE3ZWQASQoy34JnZteLLqpX0CLDlpwrADosU9K6soRMbqEWNw/4ybukr3g3iP66rsEbQcseli5gRqzO+EhuA/BqqmKEJ8aaxLe2oltcHe+82HUM6vZ1YgECd/rqUSGIHjsj9Sj74Wv+XCEBJtO/BhW58ML9O+b8owqFO3PrFIAa0u0Sci9vCEZ49ZozM7wuqU70SakeiDQANRUiLZ5DyFWtzqmEWiFsZaUbEioXafu0JFEzCfSEVyXyxYB5Ozh3bFk5IZLJ9ue7v3qkMKjM0/C6JetyoVED22QUgb9lRiyQhzwOpdyZTqSnAPwldvcVD88/Ka7V65QVtVTTpN6wWUszJAPVOS21B39Nll9cd0bpEjfLQTQ3K2kzDSFv08WWhlFUJ7ANI5CMcEF0MaMjFj6zcRO4RQ7Eon8Hqu+Vt6SJ55EGdVQHuKDK0FU2FkO0kPQ4MuB/BssMT9CycMeIRS9e6FSLG4Ez0HmkSb24J1AfZqLvpYz3D+HxMfN0paHMyAanux08g61ZSr6MTd8NpREY+OoBMqI160f62vVKa4cbbiaphTodcDIcmtTRpS3ReAR+vlEnkIrrFVl/2mD6wm5SRYb7Q9KrlWZaIvsAtjWmpWB/BQLnTJEc3xHi2nyM9PoXUHyYBCPp/trOuijucV8zweq+/bS1Wdz6AJAFEOaAx7iHdgOCJKIFtIJ50/BFqoYAAClkAAAATQZohbEM//p4QAE1dI5+du9t7KAAAABZBmkI8IZMphDP//p4QAHaKcc/S/uXJAAAAF0GaY0nhDyZTAhn//p4QALnwY5+l/cqpAAAAG0GahEnhDyZTAhv//qeEAElQBZttoDAJr+6rMQAAABhBmqVJ4Q8mUwIb//6nhABxDjP9SkAqhcEAAAAZQZrGSeEPJlMCHf/+qZYAWT5BmfeJvu020QAAABZBmupJ4Q8mUwId//6plgCIIsm7EJHdAAAADkGfCEURPC//AKOyoDZgAAAAEAGfJ3RCvwDc2Vd31DdweNAAAAAQAZ8pakK/ANylbGEDT7KL4QAAABNBmy5JqEFomUwId//+qZYAAJWAAAAADEGfTEURLC//AACygAAAABABn2t0Qr8A3NlXd9Q3cHjRAAAAEAGfbWpCvwDcpWxhA0+yi+EAAAATQZtySahBbJlMCHf//qmWAACVgQAAAAxBn5BFFSwv/wAAsoAAAAAQAZ+vdEK/ANzZV3fUN3B40AAAABABn7FqQr8A3KVsYQNPsovhAAAAE0GbtkmoQWyZTAh3//6plgAAlYAAAAAMQZ/URRUsL/8AALKAAAAAEAGf83RCvwDc2Vd31DdweNEAAAAQAZ/1akK/ANylbGEDT7KL4AAAABNBm/pJqEFsmUwId//+qZYAAJWBAAAADEGeGEUVLC//AACygQAAABABnjd0Qr8A3NlXd9Q3cHjQAAAAEAGeOWpCvwDcpWxhA0+yi+EAAAATQZo+SahBbJlMCHf//qmWAACVgAAAAAxBnlxFFSwv/wAAsoEAAAAQAZ57dEK/ANzZV3fUN3B40QAAABABnn1qQr8A3KVsYQNPsovgAAAAE0GaYkmoQWyZTAh3//6plgAAlYAAAAAMQZ6ARRUsL/8AALKBAAAAEAGev3RCvwDc2Vd31DdweNAAAAAQAZ6hakK/ANylbGEDT7KL4QAAABNBmqZJqEFsmUwId//+qZYAAJWAAAAADEGexEUVLC//AACygQAAABABnuN0Qr8A3NlXd9Q3cHjRAAAAEAGe5WpCvwDcpWxhA0+yi+EAAAATQZrqSahBbJlMCHf//qmWAACVgQAAAAxBnwhFFSwv/wAAsoAAAAAQAZ8ndEK/ANzZV3fUN3B40AAAABABnylqQr8A3KVsYQNPsovhAAAAE0GbLkmoQWyZTAh3//6plgAAlYAAAAAMQZ9MRRUsL/8AALKAAAAAEAGfa3RCvwDc2Vd31DdweNEAAAAQAZ9takK/ANylbGEDT7KL4QAAABNBm3JJqEFsmUwId//+qZYAAJWBAAAADEGfkEUVLC//AACygAAAABABn690Qr8A3NlXd9Q3cHjQAAAAEAGfsWpCvwDcpWxhA0+yi+EAAAATQZu2SahBbJlMCHf//qmWAACVgAAAAAxBn9RFFSwv/wAAsoAAAAAQAZ/zdEK/ANzZV3fUN3B40QAAABABn/VqQr8A3KVsYQNPsovgAAAAE0Gb+kmoQWyZTAh3//6plgAAlYEAAAAMQZ4YRRUsL/8AALKBAAAAEAGeN3RCvwDc2Vd31DdweNAAAAAQAZ45akK/ANylbGEDT7KL4QAAABNBmj5JqEFsmUwId//+qZYAAJWAAAAADEGeXEUVLC//AACygQAAABABnnt0Qr8A3NlXd9Q3cHjRAAAAEAGefWpCvwDcpWxhA0+yi+AAAAATQZpiSahBbJlMCHf//qmWAACVgAAAAAxBnoBFFSwv/wAAsoEAAAAQAZ6/dEK/ANzZV3fUN3B40AAAABABnqFqQr8A3KVsYQNPsovhAAAAE0GapkmoQWyZTAh3//6plgAAlYAAAAAMQZ7ERRUsL/8AALKBAAAAEAGe43RCvwDc2Vd31DdweNEAAAAQAZ7lakK/ANylbGEDT7KL4QAAABNBmupJqEFsmUwId//+qZYAAJWBAAAADEGfCEUVLC//AACygAAAABABnyd0Qr8A3NlXd9Q3cHjQAAAAEAGfKWpCvwDcpWxhA0+yi+EAAAATQZsuSahBbJlMCHf//qmWAACVgAAAAAxBn0xFFSwv/wAAsoAAAAAQAZ9rdEK/ANzZV3fUN3B40QAAABABn21qQr8A3KVsYQNPsovhAAAAE0GbckmoQWyZTAh3//6plgAAlYEAAAAMQZ+QRRUsL/8AALKAAAAAEAGfr3RCvwDc2Vd31DdweNAAAAAQAZ+xakK/ANylbGEDT7KL4QAAABNBm7ZJqEFsmUwId//+qZYAAJWAAAAADEGf1EUVLC//AACygAAAABABn/N0Qr8A3NlXd9Q3cHjRAAAAEAGf9WpCvwDcpWxhA0+yi+AAAAATQZv6SahBbJlMCHf//qmWAACVgQAAAAxBnhhFFSwv/wAAsoEAAAAQAZ43dEK/ANzZV3fUN3B40AAAABABnjlqQr8A3KVsYQNPsovhAAAAE0GaPkmoQWyZTAh3//6plgAAlYAAAAAMQZ5cRRUsL/8AALKBAAAAEAGee3RCvwDc2Vd31DdweNEAAAAQAZ59akK/ANylbGEDT7KL4AAAABNBmmJJqEFsmUwId//+qZYAAJWAAAAADEGegEUVLC//AACygQAAABABnr90Qr8A3NlXd9Q3cHjQAAAAEAGeoWpCvwDcpWxhA0+yi+EAAAATQZqmSahBbJlMCHf//qmWAACVgAAAAAxBnsRFFSwv/wAAsoEAAAAQAZ7jdEK/ANzZV3fUN3B40QAAABABnuVqQr8A3KVsYQNPsovhAAAAE0Ga6kmoQWyZTAh3//6plgAAlYEAAAAMQZ8IRRUsL/8AALKAAAAAEAGfJ3RCvwDc2Vd31DdweNAAAAAQAZ8pakK/ANylbGEDT7KL4QAAABNBmy5JqEFsmUwId//+qZYAAJWAAAAADEGfTEUVLC//AACygAAAABABn2t0Qr8A3NlXd9Q3cHjRAAAAEAGfbWpCvwDcpWxhA0+yi+EAAAATQZtySahBbJlMCHf//qmWAACVgQAAAAxBn5BFFSwv/wAAsoAAAAAQAZ+vdEK/ANzZV3fUN3B40AAAABABn7FqQr8A3KVsYQNPsovhAAAAE0GbtkmoQWyZTAh3//6plgAAlYAAAAAMQZ/URRUsL/8AALKAAAAAEAGf83RCvwDc2Vd31DdweNEAAAAQAZ/1akK/ANylbGEDT7KL4AAAABNBm/pJqEFsmUwId//+qZYAAJWBAAAADEGeGEUVLC//AACygQAAABABnjd0Qr8A3NlXd9Q3cHjQAAAAEAGeOWpCvwDcpWxhA0+yi+EAAAATQZo+SahBbJlMCHf//qmWAACVgAAAAAxBnlxFFSwv/wAAsoEAAAAQAZ57dEK/ANzZV3fUN3B40QAAABABnn1qQr8A3KVsYQNPsovgAAAAE0GaYkmoQWyZTAh3//6plgAAlYAAAAAMQZ6ARRUsL/8AALKBAAAAEAGev3RCvwDc2Vd31DdweNAAAAAQAZ6hakK/ANylbGEDT7KL4QAAABNBmqZJqEFsmUwId//+qZYAAJWAAAAADEGexEUVLC//AACygQAAABABnuN0Qr8A3NlXd9Q3cHjRAAAAEAGe5WpCvwDcpWxhA0+yi+EAAAATQZrqSahBbJlMCHf//qmWAACVgQAAAAxBnwhFFSwv/wAAsoAAAAAQAZ8ndEK/ANzZV3fUN3B40AAAABABnylqQr8A3KVsYQNPsovhAAAAE0GbLkmoQWyZTAh3//6plgAAlYAAAAAMQZ9MRRUsL/8AALKAAAAAEAGfa3RCvwDc2Vd31DdweNEAAAAQAZ9takK/ANylbGEDT7KL4QAAABNBm3JJqEFsmUwId//+qZYAAJWBAAAADEGfkEUVLC//AACygAAAABABn690Qr8A3NlXd9Q3cHjQAAAAEAGfsWpCvwDcpWxhA0+yi+EAAAATQZu2SahBbJlMCHf//qmWAACVgAAAAAxBn9RFFSwv/wAAsoAAAAAQAZ/zdEK/ANzZV3fUN3B40QAAABABn/VqQr8A3KVsYQNPsovgAAAAE0Gb+kmoQWyZTAh3//6plgAAlYEAAAAMQZ4YRRUsL/8AALKBAAAAEAGeN3RCvwDc2Vd31DdweNAAAAAQAZ45akK/ANylbGEDT7KL4QAAABNBmj5JqEFsmUwId//+qZYAAJWAAAAADEGeXEUVLC//AACygQAAABABnnt0Qr8A3NlXd9Q3cHjRAAAAEAGefWpCvwDcpWxhA0+yi+AAAAATQZpiSahBbJlMCHf//qmWAACVgAAAAAxBnoBFFSwv/wAAsoEAAAAQAZ6/dEK/ANzZV3fUN3B40AAAABABnqFqQr8A3KVsYQNPsovhAAAAE0GapkmoQWyZTAh3//6plgAAlYAAAAAMQZ7ERRUsL/8AALKBAAAAEAGe43RCvwDc2Vd31DdweNEAAAAQAZ7lakK/ANylbGEDT7KL4QAAABNBmupJqEFsmUwId//+qZYAAJWBAAAADEGfCEUVLC//AACygAAAABABnyd0Qr8A3NlXd9Q3cHjQAAAAEAGfKWpCvwDcpWxhA0+yi+EAAAATQZsuSahBbJlMCHf//qmWAACVgAAAAAxBn0xFFSwv/wAAsoAAAAAQAZ9rdEK/ANzZV3fUN3B40QAAABABn21qQr8A3KVsYQNPsovhAAAAE0GbckmoQWyZTAh3//6plgAAlYEAAAAMQZ+QRRUsL/8AALKAAAAAEAGfr3RCvwDc2Vd31DdweNAAAAAQAZ+xakK/ANylbGEDT7KL4QAAABNBm7ZJqEFsmUwId//+qZYAAJWAAAAADEGf1EUVLC//AACygAAAABABn/N0Qr8A3NlXd9Q3cHjRAAAAEAGf9WpCvwDcpWxhA0+yi+AAAAATQZv6SahBbJlMCHf//qmWAACVgQAAAAxBnhhFFSwv/wAAsoEAAAAQAZ43dEK/ANzZV3fUN3B40AAAABABnjlqQr8A3KVsYQNPsovhAAAAE0GaPkmoQWyZTAh3//6plgAAlYAAAAAMQZ5cRRUsL/8AALKBAAAAEAGee3RCvwDc2Vd31DdweNEAAAAQAZ59akK/ANylbGEDT7KL4AAAABJBmmJJqEFsmUwIb//+p4QAAScAAAAMQZ6ARRUsL/8AALKBAAAAEAGev3RCvwDc2Vd31DdweNAAAAAQAZ6hakK/ANylbGEDT7KL4QAAABJBmqZJqEFsmUwIZ//+nhAABHwAAAAMQZ7ERRUsL/8AALKBAAAAEAGe43RCvwDc2Vd31DdweNEAAAAQAZ7lakK/ANylbGEDT7KL4QAAABpBmulLqEIQWyRGCCgH8gH9h4AhX/44QAARcQAAACdBnwdFFSwr/wKvY+1BxN2qw0km5aqGDNHx3OblldFacfFfAbq1kvoAAAAjAZ8oakK/Aq9j7UHE3arDSSblqoYM3oGAjf+MPpbAILS4foAAAAxQbW9vdgAAAGxtdmhkAAAAAAAAAAAAAAAAAAAD6AAAH5AAAQAAAQAAAAAAAAAAAAAAAAEAAAAAAAAAAAAAAAAAAAABAAAAAAAAAAAAAAAAAABAAAAAAAAAAAAAAAAAAAAAAAAAAAAAAAAAAAAAAAAAAgAAC3p0cmFrAAAAXHRraGQAAAADAAAAAAAAAAAAAAABAAAAAAAAH5AAAAAAAAAAAAAAAAAAAAAAAAEAAAAAAAAAAAAAAAAAAAABAAAAAAAAAAAAAAAAAABAAAAAARAAAAEQAAAAAAAkZWR0cwAAABxlbHN0AAAAAAAAAAEAAB+QAAAEAAABAAAAAArybWRpYQAAACBtZGhkAAAAAAAAAAAAAAAAAAAyAAABlABVxAAAAAAALWhkbHIAAAAAAAAAAHZpZGUAAAAAAAAAAAAAAABWaWRlb0hhbmRsZXIAAAAKnW1pbmYAAAAUdm1oZAAAAAEAAAAAAAAAAAAAACRkaW5mAAAAHGRyZWYAAAAAAAAAAQAAAAx1cmwgAAAAAQAACl1zdGJsAAAAlXN0c2QAAAAAAAAAAQAAAIVhdmMxAAAAAAAAAAEAAAAAAAAAAAAAAAAAAAAAARABEABIAAAASAAAAAAAAAABAAAAAAAAAAAAAAAAAAAAAAAAAAAAAAAAAAAAAAAAAAAAGP//AAAAL2F2Y0MB9AAN/+EAF2f0AA2RmygiEdCAAAADAIAAABkHihTLAQAFaOvjxEgAAAAYc3R0cwAAAAAAAAABAAAAygAAAgAAAAAUc3RzcwAAAAAAAAABAAAAAQAABihjdHRzAAAAAAAAAMMAAAAHAAAEAAAAAAEAAAoAAAAAAQAABAAAAAABAAAAAAAAAAEAAAIAAAAAAQAACgAAAAABAAAEAAAAAAEAAAAAAAAAAQAAAgAAAAABAAAKAAAAAAEAAAQAAAAAAQAAAAAAAAABAAACAAAAAAEAAAoAAAAAAQAABAAAAAABAAAAAAAAAAEAAAIAAAAAAQAACgAAAAABAAAEAAAAAAEAAAAAAAAAAQAAAgAAAAABAAAKAAAAAAEAAAQAAAAAAQAAAAAAAAABAAACAAAAAAEAAAoAAAAAAQAABAAAAAABAAAAAAAAAAEAAAIAAAAAAQAACgAAAAABAAAEAAAAAAEAAAAAAAAAAQAAAgAAAAABAAAKAAAAAAEAAAQAAAAAAQAAAAAAAAABAAACAAAAAAEAAAoAAAAAAQAABAAAAAABAAAAAAAAAAEAAAIAAAAAAQAACgAAAAABAAAEAAAAAAEAAAAAAAAAAQAAAgAAAAABAAAKAAAAAAEAAAQAAAAAAQAAAAAAAAABAAACAAAAAAEAAAoAAAAAAQAABAAAAAABAAAAAAAAAAEAAAIAAAAAAQAACgAAAAABAAAEAAAAAAEAAAAAAAAAAQAAAgAAAAABAAAKAAAAAAEAAAQAAAAAAQAAAAAAAAABAAACAAAAAAEAAAoAAAAAAQAABAAAAAABAAAAAAAAAAEAAAIAAAAAAQAACgAAAAABAAAEAAAAAAEAAAAAAAAAAQAAAgAAAAABAAAKAAAAAAEAAAQAAAAAAQAAAAAAAAABAAACAAAAAAEAAAoAAAAAAQAABAAAAAABAAAAAAAAAAEAAAIAAAAAAQAACgAAAAABAAAEAAAAAAEAAAAAAAAAAQAAAgAAAAABAAAKAAAAAAEAAAQAAAAAAQAAAAAAAAABAAACAAAAAAEAAAoAAAAAAQAABAAAAAABAAAAAAAAAAEAAAIAAAAAAQAACgAAAAABAAAEAAAAAAEAAAAAAAAAAQAAAgAAAAABAAAKAAAAAAEAAAQAAAAAAQAAAAAAAAABAAACAAAAAAEAAAoAAAAAAQAABAAAAAABAAAAAAAAAAEAAAIAAAAAAQAACgAAAAABAAAEAAAAAAEAAAAAAAAAAQAAAgAAAAABAAAKAAAAAAEAAAQAAAAAAQAAAAAAAAABAAACAAAAAAEAAAoAAAAAAQAABAAAAAABAAAAAAAAAAEAAAIAAAAAAQAACgAAAAABAAAEAAAAAAEAAAAAAAAAAQAAAgAAAAABAAAKAAAAAAEAAAQAAAAAAQAAAAAAAAABAAACAAAAAAEAAAoAAAAAAQAABAAAAAABAAAAAAAAAAEAAAIAAAAAAQAACgAAAAABAAAEAAAAAAEAAAAAAAAAAQAAAgAAAAABAAAKAAAAAAEAAAQAAAAAAQAAAAAAAAABAAACAAAAAAEAAAoAAAAAAQAABAAAAAABAAAAAAAAAAEAAAIAAAAAAQAACgAAAAABAAAEAAAAAAEAAAAAAAAAAQAAAgAAAAABAAAKAAAAAAEAAAQAAAAAAQAAAAAAAAABAAACAAAAAAEAAAoAAAAAAQAABAAAAAABAAAAAAAAAAEAAAIAAAAAAQAACgAAAAABAAAEAAAAAAEAAAAAAAAAAQAAAgAAAAABAAAKAAAAAAEAAAQAAAAAAQAAAAAAAAABAAACAAAAAAEAAAoAAAAAAQAABAAAAAABAAAAAAAAAAEAAAIAAAAAAQAACgAAAAABAAAEAAAAAAEAAAAAAAAAAQAAAgAAAAABAAAKAAAAAAEAAAQAAAAAAQAAAAAAAAABAAACAAAAAAEAAAoAAAAAAQAABAAAAAABAAAAAAAAAAEAAAIAAAAAAQAACgAAAAABAAAEAAAAAAEAAAAAAAAAAQAAAgAAAAABAAAKAAAAAAEAAAQAAAAAAQAAAAAAAAABAAACAAAAAAEAAAoAAAAAAQAABAAAAAABAAAAAAAAAAEAAAIAAAAAAQAACgAAAAABAAAEAAAAAAEAAAAAAAAAAQAAAgAAAAABAAAKAAAAAAEAAAQAAAAAAQAAAAAAAAABAAACAAAAAAEAAAgAAAAAAgAAAgAAAAAcc3RzYwAAAAAAAAABAAAAAQAAAMoAAAABAAADPHN0c3oAAAAAAAAAAAAAAMoAAAZfAAAAFwAAABoAAAAbAAAAHwAAABwAAAAdAAAAGgAAABIAAAAUAAAAFAAAABcAAAAQAAAAFAAAABQAAAAXAAAAEAAAABQAAAAUAAAAFwAAABAAAAAUAAAAFAAAABcAAAAQAAAAFAAAABQAAAAXAAAAEAAAABQAAAAUAAAAFwAAABAAAAAUAAAAFAAAABcAAAAQAAAAFAAAABQAAAAXAAAAEAAAABQAAAAUAAAAFwAAABAAAAAUAAAAFAAAABcAAAAQAAAAFAAAABQAAAAXAAAAEAAAABQAAAAUAAAAFwAAABAAAAAUAAAAFAAAABcAAAAQAAAAFAAAABQAAAAXAAAAEAAAABQAAAAUAAAAFwAAABAAAAAUAAAAFAAAABcAAAAQAAAAFAAAABQAAAAXAAAAEAAAABQAAAAUAAAAFwAAABAAAAAUAAAAFAAAABcAAAAQAAAAFAAAABQAAAAXAAAAEAAAABQAAAAUAAAAFwAAABAAAAAUAAAAFAAAABcAAAAQAAAAFAAAABQAAAAXAAAAEAAAABQAAAAUAAAAFwAAABAAAAAUAAAAFAAAABcAAAAQAAAAFAAAABQAAAAXAAAAEAAAABQAAAAUAAAAFwAAABAAAAAUAAAAFAAAABcAAAAQAAAAFAAAABQAAAAXAAAAEAAAABQAAAAUAAAAFwAAABAAAAAUAAAAFAAAABcAAAAQAAAAFAAAABQAAAAXAAAAEAAAABQAAAAUAAAAFwAAABAAAAAUAAAAFAAAABcAAAAQAAAAFAAAABQAAAAXAAAAEAAAABQAAAAUAAAAFwAAABAAAAAUAAAAFAAAABcAAAAQAAAAFAAAABQAAAAXAAAAEAAAABQAAAAUAAAAFwAAABAAAAAUAAAAFAAAABcAAAAQAAAAFAAAABQAAAAXAAAAEAAAABQAAAAUAAAAFwAAABAAAAAUAAAAFAAAABcAAAAQAAAAFAAAABQAAAAXAAAAEAAAABQAAAAUAAAAFwAAABAAAAAUAAAAFAAAABYAAAAQAAAAFAAAABQAAAAWAAAAEAAAABQAAAAUAAAAHgAAACsAAAAnAAAAFHN0Y28AAAAAAAAAAQAAADAAAABidWR0YQAAAFptZXRhAAAAAAAAACFoZGxyAAAAAAAAAABtZGlyYXBwbAAAAAAAAAAAAAAAAC1pbHN0AAAAJal0b28AAAAdZGF0YQAAAAEAAAAATGF2ZjU4LjEzLjEwMA==\" type=\"video/mp4\" />\n",
       "             </video>"
      ],
      "text/plain": [
       "<IPython.core.display.HTML object>"
      ]
     },
     "execution_count": 112,
     "metadata": {},
     "output_type": "execute_result"
    }
   ],
   "source": [
    "size = 13\n",
    "T = 200\n",
    "epochs_train = 20\n",
    "env = Environment(grid_size=size, max_time=T, temperature=0.5)\n",
    "agent = DQN_FC(size, lr=.1, epsilon = 0.3, memory_size=2000, batch_size = 32)\n",
    "train(agent, env, epochs_train, prefix='fc_train')\n",
    "HTML(display_videos('fc_train10.mp4'))"
   ]
  },
  {
   "cell_type": "markdown",
   "metadata": {},
   "source": [
    "***\n",
    "***\n",
    "__Question 8__ Implement the DQN training algorithm using a CNN (for example, 2 convolutional layers and one final fully connected layer)."
   ]
  },
  {
   "cell_type": "code",
   "execution_count": 121,
   "metadata": {},
   "outputs": [],
   "source": [
    "class DQN_CNN(DQN):\n",
    "    def __init__(self, *args,lr=0.1,**kwargs):\n",
    "        super(DQN_CNN, self).__init__(*args,**kwargs)\n",
    "        \"\"\"\n",
    "        model = Sequential()\n",
    "        model.add(Conv2D(16, (3, 3), input_shape = (5, 5, 2), activation = 'relu')) \n",
    "        model.add(Conv2D(8, (2, 2), activation = 'relu'))\n",
    "        model.add(Flatten())\n",
    "        model.add(Dense(4, activation = 'relu'))\n",
    "        \"\"\"\n",
    "     \n",
    "        model = Sequential()\n",
    "        model.add(Conv2D(64, (2,2), input_shape = (5, 5, 2)))\n",
    "        model.add(Conv2D(32, (2,2)))\n",
    "        model.add(Flatten())\n",
    "        model.add(Dense(32, activation ='relu'))\n",
    "        model.add(Dense(4, activation = 'relu'))\n",
    "        \n",
    "\n",
    "        model.compile(sgd(lr=lr, decay=1e-4, momentum=0.0), \"mse\")\n",
    "        self.model = model"
   ]
  },
  {
   "cell_type": "code",
   "execution_count": 122,
   "metadata": {},
   "outputs": [
    {
     "name": "stdout",
     "output_type": "stream",
     "text": [
      "Epoch 000/020 | Loss 0.0000 | Win/lose count 0.5/3.0 (-2.5)\n",
      "Epoch 001/020 | Loss 0.0015 | Win/lose count 1.5/3.0 (-1.5)\n",
      "Epoch 002/020 | Loss 0.0001 | Win/lose count 2.0/1.0 (1.0)\n",
      "Epoch 003/020 | Loss 0.0017 | Win/lose count 1.0/0 (1.0)\n",
      "Epoch 004/020 | Loss 0.0000 | Win/lose count 0.5/0 (0.5)\n",
      "Epoch 005/020 | Loss 0.0003 | Win/lose count 1.0/1.0 (0.0)\n",
      "Epoch 006/020 | Loss 0.0067 | Win/lose count 0.5/1.0 (-0.5)\n",
      "Epoch 007/020 | Loss 0.0001 | Win/lose count 1.0/0 (1.0)\n",
      "Epoch 008/020 | Loss 0.0000 | Win/lose count 2.5/2.0 (0.5)\n",
      "Epoch 009/020 | Loss 0.0000 | Win/lose count 4.5/1.0 (3.5)\n",
      "Epoch 010/020 | Loss 0.0022 | Win/lose count 2.0/0 (2.0)\n",
      "Epoch 011/020 | Loss 0.0000 | Win/lose count 2.0/2.0 (0.0)\n",
      "Epoch 012/020 | Loss 0.0043 | Win/lose count 2.5/2.0 (0.5)\n",
      "Epoch 013/020 | Loss 0.0000 | Win/lose count 2.5/2.0 (0.5)\n",
      "Epoch 014/020 | Loss 0.0000 | Win/lose count 1.0/0 (1.0)\n",
      "Epoch 015/020 | Loss 0.0000 | Win/lose count 2.0/1.0 (1.0)\n",
      "Epoch 016/020 | Loss 0.0002 | Win/lose count 2.0/6.0 (-4.0)\n",
      "Epoch 017/020 | Loss 0.0002 | Win/lose count 1.5/1.0 (0.5)\n",
      "Epoch 018/020 | Loss 0.0151 | Win/lose count 2.5/2.0 (0.5)\n",
      "Epoch 019/020 | Loss 0.0000 | Win/lose count 2.5/3.0 (-0.5)\n"
     ]
    },
    {
     "data": {
      "text/html": [
       "<video alt=\"test\" controls>\n",
       "                <source src=\"data:video/mp4;base64,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\" type=\"video/mp4\" />\n",
       "             </video>"
      ],
      "text/plain": [
       "<IPython.core.display.HTML object>"
      ]
     },
     "execution_count": 122,
     "metadata": {},
     "output_type": "execute_result"
    }
   ],
   "source": [
    "size = 13\n",
    "T = 200\n",
    "epochs_train = 20\n",
    "env = Environment(grid_size=size, max_time=T, temperature=0.3)\n",
    "agent = DQN_CNN(size, lr=.1, epsilon = 0.3, memory_size=2000, batch_size = 32)\n",
    "train(agent,env,epochs_train,prefix='cnn_train')\n",
    "HTML(display_videos('cnn_train10.mp4'))"
   ]
  },
  {
   "cell_type": "markdown",
   "metadata": {},
   "source": [
    "***\n",
    "***\n",
    "__Question 9__ Test both algorithms and compare their performances. Which issue(s) do you observe? Observe also different behaviors by changing the temperature.\n",
    "\n",
    "- Observations: \n",
    "\n",
    "We can see from the testing part that DQN with CNN gives better performance than with FC. \n",
    "\n",
    "Regarding the change of temperature, when it increased from 0.3 to 0.5, the testing results were better for CNN and worse for FC\n",
    "\n",
    "Mainly both scores increase with the temperature because there are more rewards, but CNN is more adaptable. And the gap between CNN and FC becomes wider when the temperature increases.\n",
    "\n",
    "- Issues:\n",
    "\n",
    "The agent is not totally exploring its environment and tend to be stuck between two positions when it does not see anymore reward in its surrounding. This can explain the reason for low scores."
   ]
  },
  {
   "cell_type": "markdown",
   "metadata": {},
   "source": [
    "### Temperature = 0.3"
   ]
  },
  {
   "cell_type": "code",
   "execution_count": 123,
   "metadata": {},
   "outputs": [
    {
     "name": "stdout",
     "output_type": "stream",
     "text": [
      "_________________________________________________________________\n",
      "Layer (type)                 Output Shape              Param #   \n",
      "=================================================================\n",
      "dense_103 (Dense)            (None, 5, 5, 32)          96        \n",
      "_________________________________________________________________\n",
      "flatten_61 (Flatten)         (None, 800)               0         \n",
      "_________________________________________________________________\n",
      "dense_104 (Dense)            (None, 32)                25632     \n",
      "_________________________________________________________________\n",
      "dense_105 (Dense)            (None, 4)                 132       \n",
      "=================================================================\n",
      "Total params: 25,860\n",
      "Trainable params: 25,860\n",
      "Non-trainable params: 0\n",
      "_________________________________________________________________\n",
      "Test of the CNN\n",
      "Win/lose count 3.5/0. Average score (3.5)\n",
      "Win/lose count 0.5/0. Average score (2.0)\n",
      "Win/lose count 2.5/1.0. Average score (1.8333333333333333)\n",
      "Win/lose count 1.0/0. Average score (1.625)\n",
      "Win/lose count 3.0/0. Average score (1.9)\n",
      "Win/lose count 3.0/0. Average score (2.0833333333333335)\n",
      "Win/lose count 2.5/2.0. Average score (1.8571428571428572)\n",
      "Win/lose count 1.5/0. Average score (1.8125)\n",
      "Win/lose count 0.5/0. Average score (1.6666666666666667)\n",
      "Win/lose count 3.0/2.0. Average score (1.6)\n",
      "Win/lose count 3.0/1.0. Average score (1.6363636363636365)\n",
      "Win/lose count 0/0. Average score (1.5)\n",
      "Win/lose count 0.5/0. Average score (1.4230769230769231)\n",
      "Win/lose count 0.5/0. Average score (1.3571428571428572)\n",
      "Win/lose count 0.5/2.0. Average score (1.1666666666666667)\n",
      "Win/lose count 2.0/0. Average score (1.21875)\n",
      "Win/lose count 0.5/0. Average score (1.1764705882352942)\n",
      "Win/lose count 0.5/4.0. Average score (0.9166666666666666)\n",
      "Win/lose count 0.5/0. Average score (0.8947368421052632)\n",
      "Win/lose count 3.5/0. Average score (1.025)\n",
      "Final score: 1.025\n",
      "Test of the FC\n",
      "Win/lose count 2.5/5.0. Average score (-2.5)\n",
      "Win/lose count 0/1.0. Average score (-1.75)\n",
      "Win/lose count 0.5/0. Average score (-1.0)\n",
      "Win/lose count 1.5/1.0. Average score (-0.625)\n",
      "Win/lose count 0.5/4.0. Average score (-1.2)\n",
      "Win/lose count 0/3.0. Average score (-1.5)\n",
      "Win/lose count 2.0/2.0. Average score (-1.2857142857142858)\n",
      "Win/lose count 2.5/3.0. Average score (-1.1875)\n",
      "Win/lose count 3.5/3.0. Average score (-1.0)\n",
      "Win/lose count 0.5/0. Average score (-0.85)\n",
      "Win/lose count 0/2.0. Average score (-0.9545454545454546)\n",
      "Win/lose count 1.5/5.0. Average score (-1.1666666666666667)\n",
      "Win/lose count 3.5/3.0. Average score (-1.0384615384615385)\n",
      "Win/lose count 0.5/0. Average score (-0.9285714285714286)\n",
      "Win/lose count 1.0/2.0. Average score (-0.9333333333333333)\n",
      "Win/lose count 1.0/7.0. Average score (-1.25)\n",
      "Win/lose count 0/1.0. Average score (-1.2352941176470589)\n",
      "Win/lose count 0/0. Average score (-1.1666666666666667)\n",
      "Win/lose count 0.5/2.0. Average score (-1.1842105263157894)\n",
      "Win/lose count 0.5/1.0. Average score (-1.15)\n",
      "Final score: -1.15\n"
     ]
    }
   ],
   "source": [
    "epochs_test = 20\n",
    "env = Environment(grid_size=size, max_time=T,temperature=0.3)\n",
    "agent_cnn = DQN_CNN(size, lr=.1, epsilon = 0.1, memory_size=2000, batch_size = 32)\n",
    "agent_cnn.load(name_weights='cnn_trainmodel.h5',name_model='cnn_trainmodel.json')\n",
    "\n",
    "agent_fc = DQN_FC(size, lr=.1, epsilon = 0.1, memory_size=2000, batch_size = 32)\n",
    "agent_cnn.load(name_weights='fc_trainmodel.h5',name_model='fc_trainmodel.json')\n",
    "print('Test of the CNN')\n",
    "test(agent_cnn,env,epochs_test,prefix='cnn_test')\n",
    "print('Test of the FC')\n",
    "test(agent_fc,env,epochs_test,prefix='fc_test')"
   ]
  },
  {
   "cell_type": "markdown",
   "metadata": {},
   "source": [
    "### Temperature = 0.5"
   ]
  },
  {
   "cell_type": "code",
   "execution_count": 124,
   "metadata": {},
   "outputs": [
    {
     "name": "stdout",
     "output_type": "stream",
     "text": [
      "_________________________________________________________________\n",
      "Layer (type)                 Output Shape              Param #   \n",
      "=================================================================\n",
      "dense_108 (Dense)            (None, 5, 5, 32)          96        \n",
      "_________________________________________________________________\n",
      "flatten_63 (Flatten)         (None, 800)               0         \n",
      "_________________________________________________________________\n",
      "dense_109 (Dense)            (None, 32)                25632     \n",
      "_________________________________________________________________\n",
      "dense_110 (Dense)            (None, 4)                 132       \n",
      "=================================================================\n",
      "Total params: 25,860\n",
      "Trainable params: 25,860\n",
      "Non-trainable params: 0\n",
      "_________________________________________________________________\n",
      "Test of the CNN\n",
      "Win/lose count 2.0/0. Average score (2.0)\n",
      "Win/lose count 5.0/1.0. Average score (3.0)\n",
      "Win/lose count 8.5/1.0. Average score (4.5)\n",
      "Win/lose count 1.5/0. Average score (3.75)\n",
      "Win/lose count 4.0/0. Average score (3.8)\n",
      "Win/lose count 2.5/0. Average score (3.5833333333333335)\n",
      "Win/lose count 4.5/1.0. Average score (3.5714285714285716)\n",
      "Win/lose count 9.5/2.0. Average score (4.0625)\n",
      "Win/lose count 3.0/2.0. Average score (3.7222222222222223)\n",
      "Win/lose count 4.5/0. Average score (3.8)\n",
      "Win/lose count 3.5/0. Average score (3.772727272727273)\n",
      "Win/lose count 1.5/0. Average score (3.5833333333333335)\n",
      "Win/lose count 1.5/2.0. Average score (3.269230769230769)\n",
      "Win/lose count 3.0/1.0. Average score (3.1785714285714284)\n",
      "Win/lose count 0/1.0. Average score (2.9)\n",
      "Win/lose count 3.0/1.0. Average score (2.84375)\n",
      "Win/lose count 1.5/1.0. Average score (2.7058823529411766)\n",
      "Win/lose count 2.5/0. Average score (2.6944444444444446)\n",
      "Win/lose count 1.5/1.0. Average score (2.5789473684210527)\n",
      "Win/lose count 0.5/1.0. Average score (2.425)\n",
      "Final score: 2.425\n",
      "Test of the FC\n",
      "Win/lose count 0.5/1.0. Average score (-0.5)\n",
      "Win/lose count 3.5/1.0. Average score (1.0)\n",
      "Win/lose count 2.0/0. Average score (1.3333333333333333)\n",
      "Win/lose count 0.5/4.0. Average score (0.125)\n",
      "Win/lose count 2.5/4.0. Average score (-0.2)\n",
      "Win/lose count 2.0/8.0. Average score (-1.1666666666666667)\n",
      "Win/lose count 1.0/1.0. Average score (-1.0)\n",
      "Win/lose count 1.0/1.0. Average score (-0.875)\n",
      "Win/lose count 1.5/1.0. Average score (-0.7222222222222222)\n",
      "Win/lose count 0.5/2.0. Average score (-0.8)\n",
      "Win/lose count 1.0/1.0. Average score (-0.7272727272727273)\n",
      "Win/lose count 0/2.0. Average score (-0.8333333333333334)\n",
      "Win/lose count 0.5/2.0. Average score (-0.8846153846153846)\n",
      "Win/lose count 1.0/4.0. Average score (-1.0357142857142858)\n",
      "Win/lose count 0.5/1.0. Average score (-1.0)\n",
      "Win/lose count 1.5/1.0. Average score (-0.90625)\n",
      "Win/lose count 1.0/2.0. Average score (-0.9117647058823529)\n",
      "Win/lose count 0.5/1.0. Average score (-0.8888888888888888)\n",
      "Win/lose count 2.0/0. Average score (-0.7368421052631579)\n",
      "Win/lose count 0.5/1.0. Average score (-0.725)\n",
      "Final score: -0.725\n"
     ]
    }
   ],
   "source": [
    "epochs_test = 20\n",
    "env = Environment(grid_size=size, max_time=T,temperature=0.5)\n",
    "agent_cnn = DQN_CNN(size, lr=.1, epsilon = 0.1, memory_size=2000, batch_size = 32)\n",
    "agent_cnn.load(name_weights='cnn_trainmodel.h5',name_model='cnn_trainmodel.json')\n",
    "\n",
    "agent_fc = DQN_FC(size, lr=.1, epsilon = 0.1, memory_size=2000, batch_size = 32)\n",
    "agent_cnn.load(name_weights='fc_trainmodel.h5',name_model='fc_trainmodel.json')\n",
    "print('Test of the CNN')\n",
    "test(agent_cnn,env,epochs_test,prefix='cnn_test')\n",
    "print('Test of the FC')\n",
    "test(agent_fc,env,epochs_test,prefix='fc_test')"
   ]
  },
  {
   "cell_type": "code",
   "execution_count": 125,
   "metadata": {},
   "outputs": [
    {
     "data": {
      "text/html": [
       "<video alt=\"test\" controls>\n",
       "                <source src=\"data:video/mp4;base64,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\" type=\"video/mp4\" />\n",
       "             </video>"
      ],
      "text/plain": [
       "<IPython.core.display.HTML object>"
      ]
     },
     "execution_count": 125,
     "metadata": {},
     "output_type": "execute_result"
    }
   ],
   "source": [
    "HTML(display_videos('cnn_test10.mp4'))"
   ]
  },
  {
   "cell_type": "code",
   "execution_count": 126,
   "metadata": {},
   "outputs": [
    {
     "data": {
      "text/html": [
       "<video alt=\"test\" controls>\n",
       "                <source src=\"data:video/mp4;base64,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\" type=\"video/mp4\" />\n",
       "             </video>"
      ],
      "text/plain": [
       "<IPython.core.display.HTML object>"
      ]
     },
     "execution_count": 126,
     "metadata": {},
     "output_type": "execute_result"
    }
   ],
   "source": [
    "HTML(display_videos('fc_test10.mp4'))"
   ]
  },
  {
   "cell_type": "markdown",
   "metadata": {},
   "source": []
  },
  {
   "cell_type": "markdown",
   "metadata": {},
   "source": [
    "***\n",
    "\n",
    "The algorithm tends to not explore the map which can be an issue. We propose two ideas in order to encourage exploration:\n",
    "1. Incorporating a decreasing $\\epsilon$-greedy exploration. You can use the method ```set_epsilon```\n",
    "2. Append via the environment a new state that describes if a cell has been visited or not\n",
    "\n",
    "***\n",
    "__Question 10__ Design a new ```train_explore``` function and environment class ```EnvironmentExploring``` to tackle the issue of exploration.\n",
    "\n"
   ]
  },
  {
   "cell_type": "code",
   "execution_count": 127,
   "metadata": {},
   "outputs": [],
   "source": [
    "def train_explore(agent,env,epoch,prefix=''):\n",
    "    \n",
    "    #USE SAME TRAINING AGENT FROM BEFORE BUT WITH SMALL MODIFICATION RELATED TO EPSILON\n",
    "    score = 0\n",
    "    loss = 0\n",
    "    discount=0.99 #added discount\n",
    "    epsilon= agent.epsilon\n",
    "    \n",
    "    for e in range(epoch):\n",
    "\n",
    "        state = env.reset()\n",
    "        game_over = False\n",
    "\n",
    "        win = 0\n",
    "        lose = 0\n",
    "\n",
    "        agent.set_epsilon(epsilon*discount) #SET E = EPSILON * DISCOUNT EPSILON\n",
    "        \n",
    "        while not game_over:\n",
    "\n",
    "            action = agent.act(state)\n",
    "\n",
    "            prev_state = state\n",
    "            state, reward, game_over = env.act(action, train=True)\n",
    "\n",
    "            if reward > 0:\n",
    "                win = win + reward\n",
    "            if reward < 0:\n",
    "                lose = lose - reward\n",
    "\n",
    "            loss = agent.reinforce(prev_state, state,  action, reward, game_over)\n",
    "\n",
    "        if e % 10 == 0:\n",
    "            env.draw(prefix+str(e))\n",
    "\n",
    "        score += win-lose\n",
    "\n",
    "        print(\"Epoch {:03d}/{:03d} | Loss {:.4f} | Win/lose count {}/{} ({})\"\n",
    "              .format(e, epoch, loss, win, lose, win-lose))\n",
    "        agent.save(name_weights=prefix+'model.h5',name_model=prefix+'model.json')   \n",
    "\n",
    "        \n",
    "class EnvironmentExploring(object):\n",
    "    def __init__(self, grid_size=10, max_time=500, temperature=0.1):\n",
    "        Environment.__init__(self, grid_size, max_time, temperature)  # constructor initiliaze\n",
    "        self.malus_position = np.zeros((self.grid_size,self.grid_size)) #  penalize state\n",
    "    def draw(self,e):\n",
    "        skvideo.io.vwrite(str(e) + '.mp4', self.to_draw)\n",
    "\n",
    "    def get_frame(self,t):\n",
    "        b = np.zeros((self.grid_size,self.grid_size,3))+128\n",
    "        b[self.board>0,0] = 256\n",
    "        b[self.board < 0, 2] = 256\n",
    "        b[self.x,self.y,:]=256\n",
    "        b[-2:,:,:]=0\n",
    "        b[:,-2:,:]=0\n",
    "        b[:2,:,:]=0\n",
    "        b[:,:2,:]=0\n",
    "        \n",
    "        b =  cv2.resize(b, None, fx=self.scale, fy=self.scale, interpolation=cv2.INTER_NEAREST)\n",
    "\n",
    "        self.to_draw[t,:,:,:]=b\n",
    "    \n",
    "    def act(self, action, train=False):\n",
    "        \"\"\"This function gets the state, reward, and game over state\n",
    "        + penalizes if being on visited cells then returns the new state\n",
    "        + check if end of game \"\"\"\n",
    "\n",
    "        state, reward, game_over = Environment.act(self,action)\n",
    "\n",
    "        if train:\n",
    "            reward = reward-self.malus_position[self.x, self.y]\n",
    "        self.malus_position[self.x, self.y] = 0.1  #set a malus equal to -0.1 to an already visited cell\n",
    "\n",
    "        reward = reward + self.board[self.x, self.y]\n",
    "            \n",
    "        cell_visited= self.malus_position.reshape(self.grid_size, self.grid_size,1)[self.x-2:self.x+3,self.y-2:self.y+3,:]\n",
    "        state = np.concatenate((cell_visited, state),axis=2)\n",
    "\n",
    "        return state, reward, game_over\n",
    "    \n",
    "    def reset(self):\n",
    "        \"\"\"Reset function \"\"\"\n",
    "        state = Environment.reset(self) \n",
    "        \n",
    "        self.malus_position = np.zeros((self.grid_size,self.grid_size)) #initiaize malus pos\n",
    "        self.malus_position[-2:,:]=1  #attribute 1 to border cells\n",
    "        self.malus_position[:,-2:]=1\n",
    "        self.malus_position[:2,:]=1\n",
    "        self.malus_position[:,:2]=1\n",
    "        self.malus_position[self.x, self.y] = 0.1\n",
    "        \n",
    "        cell_visited = self.malus_position.reshape(self.grid_size, self.grid_size,1)[self.x-2:self.x+3,self.y-2:self.y+3,:]\n",
    "        state = np.concatenate((cell_visited, state),axis=2)\n",
    "\n",
    "        return state"
   ]
  },
  {
   "cell_type": "code",
   "execution_count": 128,
   "metadata": {},
   "outputs": [],
   "source": [
    "from keras.layers import Input, Flatten\n",
    "# modify the CNN to match it with the new number of states and improve it\n",
    "\n",
    "class DQN_CNN2(DQN):\n",
    "    def __init__(self, *args,lr=0.1,**kwargs):\n",
    "        super(DQN_CNN2, self).__init__(*args,**kwargs)\n",
    "        \n",
    "        model = Sequential()\n",
    "        model.add(Conv2D(32, (2,2), input_shape = (5, 5, self.n_state)))\n",
    "        model.add(Conv2D(32, (2,2)))\n",
    "        model.add(Flatten())\n",
    "        model.add(Dense(32, activation ='relu'))\n",
    "        model.add(Dense(4, activation = 'linear'))\n",
    "        \n",
    "        model.compile(sgd(lr=lr, decay=1e-4, momentum=0.0), \"mse\")\n",
    "        self.model = model\n",
    "        print(self.model.summary())"
   ]
  },
  {
   "cell_type": "code",
   "execution_count": 129,
   "metadata": {},
   "outputs": [
    {
     "name": "stdout",
     "output_type": "stream",
     "text": [
      "_________________________________________________________________\n",
      "Layer (type)                 Output Shape              Param #   \n",
      "=================================================================\n",
      "conv2d_79 (Conv2D)           (None, 4, 4, 32)          416       \n",
      "_________________________________________________________________\n",
      "conv2d_80 (Conv2D)           (None, 3, 3, 32)          4128      \n",
      "_________________________________________________________________\n",
      "flatten_64 (Flatten)         (None, 288)               0         \n",
      "_________________________________________________________________\n",
      "dense_111 (Dense)            (None, 32)                9248      \n",
      "_________________________________________________________________\n",
      "dense_112 (Dense)            (None, 4)                 132       \n",
      "=================================================================\n",
      "Total params: 13,924\n",
      "Trainable params: 13,924\n",
      "Non-trainable params: 0\n",
      "_________________________________________________________________\n",
      "None\n",
      "Epoch 000/020 | Loss 0.0052 | Win/lose count 4.5/21.100000000000023 (-16.600000000000023)\n",
      "Epoch 001/020 | Loss 0.0149 | Win/lose count 3.5/20.200000000000003 (-16.700000000000003)\n",
      "Epoch 002/020 | Loss 0.0071 | Win/lose count 7.0/19.19999999999999 (-12.199999999999989)\n",
      "Epoch 003/020 | Loss 0.0116 | Win/lose count 9.5/18.099999999999987 (-8.599999999999987)\n",
      "Epoch 004/020 | Loss 0.0056 | Win/lose count 7.5/21.800000000000047 (-14.300000000000047)\n",
      "Epoch 005/020 | Loss 0.0056 | Win/lose count 5.0/19.50000000000001 (-14.50000000000001)\n",
      "Epoch 006/020 | Loss 0.0164 | Win/lose count 7.5/18.7 (-11.2)\n",
      "Epoch 007/020 | Loss 0.0066 | Win/lose count 6.5/19.300000000000008 (-12.800000000000008)\n",
      "Epoch 008/020 | Loss 0.0160 | Win/lose count 10.0/21.40000000000004 (-11.400000000000041)\n",
      "Epoch 009/020 | Loss 0.0092 | Win/lose count 9.0/18.299999999999994 (-9.299999999999994)\n",
      "Epoch 010/020 | Loss 0.0064 | Win/lose count 12.5/19.79999999999999 (-7.29999999999999)\n",
      "Epoch 011/020 | Loss 0.0018 | Win/lose count 2.5/19.300000000000004 (-16.800000000000004)\n",
      "Epoch 012/020 | Loss 0.0199 | Win/lose count 4.0/19.900000000000016 (-15.900000000000016)\n",
      "Epoch 013/020 | Loss 0.0136 | Win/lose count 11.5/19.5 (-8.0)\n",
      "Epoch 014/020 | Loss 0.0023 | Win/lose count 8.0/19.600000000000016 (-11.600000000000016)\n",
      "Epoch 015/020 | Loss 0.0020 | Win/lose count 10.5/20.200000000000028 (-9.700000000000028)\n",
      "Epoch 016/020 | Loss 0.0119 | Win/lose count 3.0/19.200000000000003 (-16.200000000000003)\n",
      "Epoch 017/020 | Loss 0.0033 | Win/lose count 4.0/19.0 (-15.0)\n",
      "Epoch 018/020 | Loss 0.0054 | Win/lose count 14.5/19.600000000000016 (-5.100000000000016)\n",
      "Epoch 019/020 | Loss 0.0171 | Win/lose count 3.0/19.300000000000004 (-16.300000000000004)\n"
     ]
    },
    {
     "data": {
      "text/html": [
       "<video alt=\"test\" controls>\n",
       "                <source src=\"data:video/mp4;base64,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\" type=\"video/mp4\" />\n",
       "             </video>"
      ],
      "text/plain": [
       "<IPython.core.display.HTML object>"
      ]
     },
     "execution_count": 129,
     "metadata": {},
     "output_type": "execute_result"
    }
   ],
   "source": [
    "# Training\n",
    "size = 13\n",
    "T = 200\n",
    "epochs_train= 20\n",
    "env = EnvironmentExploring(grid_size=size, max_time=T, temperature=0.5)\n",
    "agent = DQN_CNN2(size, lr=.1, epsilon = 0.3, memory_size=2000, batch_size = 16,n_state=3)\n",
    "train_explore(agent, env, epochs_train, prefix='cnn_train_explore')\n",
    "HTML(display_videos('cnn_train_explore10.mp4'))"
   ]
  },
  {
   "cell_type": "code",
   "execution_count": 130,
   "metadata": {},
   "outputs": [
    {
     "name": "stdout",
     "output_type": "stream",
     "text": [
      "Win/lose count 2.5/0. Average score (2.5)\n",
      "Win/lose count 9.0/1.0. Average score (5.25)\n",
      "Win/lose count 9.5/2.0. Average score (6.0)\n",
      "Win/lose count 3.0/0. Average score (5.25)\n",
      "Win/lose count 5.5/0. Average score (5.3)\n",
      "Win/lose count 7.5/0. Average score (5.666666666666667)\n",
      "Win/lose count 5.5/1.0. Average score (5.5)\n",
      "Win/lose count 5.5/0. Average score (5.5)\n",
      "Win/lose count 9.0/0. Average score (5.888888888888889)\n",
      "Win/lose count 10.0/1.0. Average score (6.2)\n",
      "Win/lose count 7.0/2.0. Average score (6.090909090909091)\n",
      "Win/lose count 1.0/0. Average score (5.666666666666667)\n",
      "Win/lose count 5.0/1.0. Average score (5.538461538461538)\n",
      "Win/lose count 1.5/0. Average score (5.25)\n",
      "Win/lose count 11.0/1.0. Average score (5.566666666666666)\n",
      "Win/lose count 2.0/0. Average score (5.34375)\n",
      "Win/lose count 8.0/1.0. Average score (5.4411764705882355)\n",
      "Win/lose count 3.5/1.0. Average score (5.277777777777778)\n",
      "Win/lose count 11.0/1.0. Average score (5.526315789473684)\n",
      "Win/lose count 2.5/2.0. Average score (5.275)\n",
      "Final score: 5.275\n"
     ]
    },
    {
     "data": {
      "text/html": [
       "<video alt=\"test\" controls>\n",
       "                <source src=\"data:video/mp4;base64,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\" type=\"video/mp4\" />\n",
       "             </video>"
      ],
      "text/plain": [
       "<IPython.core.display.HTML object>"
      ]
     },
     "execution_count": 130,
     "metadata": {},
     "output_type": "execute_result"
    }
   ],
   "source": [
    "# Evaluation\n",
    "\n",
    "size = 13\n",
    "T = 200\n",
    "temperature = 0.5\n",
    "epochs_test=20\n",
    "test(agent,env,epochs_test,prefix='cnn_test_explore')\n",
    "HTML(display_videos('cnn_test_explore10.mp4'))"
   ]
  },
  {
   "cell_type": "markdown",
   "metadata": {},
   "source": [
    "***\n",
    "***\n",
    "__BONUS question__ Use the expert DQN from the previous question to generate some winning games. Train a model that mimicks its behavior. Compare the performances."
   ]
  },
  {
   "cell_type": "markdown",
   "metadata": {},
   "source": []
  },
  {
   "cell_type": "markdown",
   "metadata": {},
   "source": [
    "***"
   ]
  }
 ],
 "metadata": {
  "kernelspec": {
   "display_name": "Python 3",
   "language": "python",
   "name": "python3"
  },
  "language_info": {
   "codemirror_mode": {
    "name": "ipython",
    "version": 3
   },
   "file_extension": ".py",
   "mimetype": "text/x-python",
   "name": "python",
   "nbconvert_exporter": "python",
   "pygments_lexer": "ipython3",
   "version": "3.6.8"
  }
 },
 "nbformat": 4,
 "nbformat_minor": 2
}
